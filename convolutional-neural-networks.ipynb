{
 "cells": [
  {
   "cell_type": "markdown",
   "metadata": {},
   "source": [
    "# Convolutional Neural Networks"
   ]
  },
  {
   "cell_type": "code",
   "execution_count": 27,
   "metadata": {},
   "outputs": [],
   "source": [
    "import numpy as np\n",
    "import tensorflow as tf\n",
    "from tensorflow import keras\n",
    "from tensorflow.keras.models import Sequential\n",
    "from tensorflow.keras.layers import Activation, Dense, Flatten, BatchNormalization, Conv2D, MaxPool2D\n",
    "from tensorflow.keras.optimizers import Adam\n",
    "from tensorflow.keras.metrics import categorical_crossentropy\n",
    "from tensorflow.keras.preprocessing.image import ImageDataGenerator\n",
    "from sklearn.metrics import confusion_matrix\n",
    "import itertools\n",
    "import os\n",
    "import shutil\n",
    "import random\n",
    "import glob\n",
    "import matplotlib.pyplot as pdt\n",
    "import warnings\n",
    "warnings.simplefilter(action=\"ignore\", category=FutureWarning)\n",
    "%matplotlib inline"
   ]
  },
  {
   "cell_type": "code",
   "execution_count": 28,
   "metadata": {},
   "outputs": [
    {
     "name": "stdout",
     "output_type": "stream",
     "text": [
      "Num of GPUs: 1\n"
     ]
    }
   ],
   "source": [
    "physical_devices = tf.config.experimental.list_physical_devices(\"GPU\")\n",
    "print(f\"Num of GPUs: {len(physical_devices)}\")\n",
    "tf.config.experimental.set_memory_growth(physical_devices[0], True)"
   ]
  },
  {
   "cell_type": "markdown",
   "metadata": {},
   "source": [
    "## Data Preparation"
   ]
  },
  {
   "cell_type": "code",
   "execution_count": 29,
   "metadata": {},
   "outputs": [],
   "source": [
    "# Organize data into train, valid, test dirs\n",
    "os.chdir(\"data/dogs-vs-cats\")\n",
    "if os.path.isdir(\"train/dog\") is False:\n",
    "    os.makedirs(\"train/dog\")\n",
    "    os.makedirs(\"train/cat\")\n",
    "    os.makedirs(\"valid/dog\")\n",
    "    os.makedirs(\"valid/cat\")\n",
    "    os.makedirs(\"test/dog\")\n",
    "    os.makedirs(\"test/cat\")\n",
    "\n",
    "    for cat_img in random.sample(glob.glob(\"cat*\"), 500):\n",
    "        shutil.move(cat_img, \"train/cat\")\n",
    "    for dog_img in random.sample(glob.glob(\"dog*\"), 500):\n",
    "        shutil.move(dog_img, \"train/dog\")\n",
    "    for cat_img in random.sample(glob.glob(\"cat*\"), 100):\n",
    "        shutil.move(cat_img, \"valid/cat\")\n",
    "    for dog_img in random.sample(glob.glob(\"dog*\"), 100):\n",
    "        shutil.move(dog_img, \"valid/dog\")\n",
    "    for cat_img in random.sample(glob.glob(\"cat*\"), 50):\n",
    "        shutil.move(cat_img, \"test/cat\")\n",
    "    for dog_img in random.sample(glob.glob(\"dog*\"), 50):\n",
    "        shutil.move(dog_img, \"test/dog\")\n",
    "\n",
    "os.chdir(\"../../\")"
   ]
  },
  {
   "cell_type": "code",
   "execution_count": 30,
   "metadata": {},
   "outputs": [],
   "source": [
    "train_path = \"data/dogs-vs-cats/train\"\n",
    "valid_path = \"data/dogs-vs-cats/valid\"\n",
    "test_path = \"data/dogs-vs-cats/test\""
   ]
  },
  {
   "cell_type": "code",
   "execution_count": 31,
   "metadata": {},
   "outputs": [
    {
     "name": "stdout",
     "output_type": "stream",
     "text": [
      "Found 1000 images belonging to 2 classes.\n",
      "Found 200 images belonging to 2 classes.\n",
      "Found 100 images belonging to 2 classes.\n"
     ]
    }
   ],
   "source": [
    "train_batches = ImageDataGenerator(preprocessing_function=tf.keras.applications.vgg16.preprocess_input) \\\n",
    "                .flow_from_directory(directory=train_path, target_size=(224,224), classes=[\"cat\", \"dog\"], batch_size=10)\n",
    "valid_batches = ImageDataGenerator(preprocessing_function=tf.keras.applications.vgg16.preprocess_input) \\\n",
    "                .flow_from_directory(directory=valid_path, target_size=(224,224), classes=[\"cat\", \"dog\"], batch_size=10)\n",
    "test_batches = ImageDataGenerator(preprocessing_function=tf.keras.applications.vgg16.preprocess_input) \\\n",
    "                .flow_from_directory(directory=test_path, target_size=(224,224), classes=[\"cat\", \"dog\"], batch_size=10, shuffle=False)"
   ]
  }
 ],
 "metadata": {
  "kernelspec": {
   "display_name": "Python 3 (ipykernel)",
   "language": "python",
   "name": "python3"
  },
  "language_info": {
   "codemirror_mode": {
    "name": "ipython",
    "version": 3
   },
   "file_extension": ".py",
   "mimetype": "text/x-python",
   "name": "python",
   "nbconvert_exporter": "python",
   "pygments_lexer": "ipython3",
   "version": "3.10.12"
  }
 },
 "nbformat": 4,
 "nbformat_minor": 4
}
