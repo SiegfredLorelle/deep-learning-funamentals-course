{
 "cells": [
  {
   "cell_type": "markdown",
   "metadata": {},
   "source": [
    "# Sample Notebook From Sir Iking\n"
   ]
  },
  {
   "cell_type": "markdown",
   "metadata": {},
   "source": [
    "### What are the two advantages of Jupyter Notebooks over traditional Python scripts?\n",
    "\n",
    "Ans:\n",
    "* Jupyter notebooks allows for better documentation and better story telling for data through markdown. Especially good when working people with non technical background.\n",
    "* Jupyter allows for better experimentation. Instead of compiling and interpreting the entire python script, Jupyter allows to run certain lines and snippets.\n"
   ]
  },
  {
   "cell_type": "markdown",
   "metadata": {},
   "source": [
    "\n",
    "## Import libraries"
   ]
  },
  {
   "cell_type": "code",
   "execution_count": 1,
   "metadata": {
    "_cell_guid": "b1076dfc-b9ad-4769-8c92-a6c4dae69d19",
    "_uuid": "8f2839f25d086af736a60e9eeb907d3b93b6e0e5",
    "scrolled": true
   },
   "outputs": [],
   "source": [
    "from IPython.display import Image, display\n",
    "import cv2\n",
    "import numpy as np\n",
    "import matplotlib.pyplot as plt"
   ]
  },
  {
   "cell_type": "markdown",
   "metadata": {},
   "source": [
    "## Retrieve images"
   ]
  },
  {
   "cell_type": "code",
   "execution_count": 2,
   "metadata": {
    "_cell_guid": "b1076dfc-b9ad-4769-8c92-a6c4dae69d19",
    "_uuid": "8f2839f25d086af736a60e9eeb907d3b93b6e0e5"
   },
   "outputs": [],
   "source": [
    "image_path = \"/kaggle/input/sample-image/99.PNG\""
   ]
  },
  {
   "cell_type": "code",
   "execution_count": null,
   "metadata": {},
   "outputs": [],
   "source": [
    "original_image = cv2.imread(image_path)\n",
    "display(Image(filename=image_path))"
   ]
  },
  {
   "cell_type": "markdown",
   "metadata": {},
   "source": [
    "## Function for Image Transformations"
   ]
  },
  {
   "cell_type": "code",
   "execution_count": null,
   "metadata": {},
   "outputs": [],
   "source": [
    "def increase_brightness(image, factor=1.1):\n",
    "    \"\"\"\n",
    "    Increase the brightness of an image by a given factor.\n",
    "    \n",
    "    Parameters:\n",
    "    - image: The input image (NumPy array).\n",
    "    - factor: The brightness factor (default is 1.1 for a 10% increase).\n",
    "    \n",
    "    Returns:\n",
    "    - The brightened image.\n",
    "    \"\"\"\n",
    "    brightened_image = cv2.convertScaleAbs(image, alpha=factor, beta=0)\n",
    "    return brightened_image"
   ]
  },
  {
   "cell_type": "code",
   "execution_count": null,
   "metadata": {},
   "outputs": [],
   "source": [
    "def rotate_image(image, angle=45):\n",
    "    \"\"\"\n",
    "    Rotate an image by a specified angle in degrees.\n",
    "    \n",
    "    Parameters:\n",
    "    - image: The input image (NumPy array).\n",
    "    - angle: The rotation angle in degrees (default is 45 degrees).\n",
    "    \n",
    "    Returns:\n",
    "    - The rotated image.\n",
    "    \"\"\"\n",
    "    rows, cols, _ = image.shape\n",
    "    M = cv2.getRotationMatrix2D((cols / 2, rows / 2), angle, 1)\n",
    "    rotated_image = cv2.warpAffine(image, M, (cols, rows))\n",
    "    return rotated_image"
   ]
  },
  {
   "cell_type": "code",
   "execution_count": null,
   "metadata": {},
   "outputs": [],
   "source": [
    "def shift_channel(image, channel_shift_percent=20):\n",
    "    \"\"\"\n",
    "    Shift the color channels of an image by a specified percentage.\n",
    "    \n",
    "    Parameters:\n",
    "    - image: The input image (NumPy array).\n",
    "    - channel_shift_percent: The percentage by which to shift the channels.\n",
    "    \n",
    "    Returns:\n",
    "    - The image with color channels shifted.\n",
    "    \"\"\"\n",
    "    shifted_image = np.copy(image)\n",
    "    shift_value = (channel_shift_percent / 100.0) * 255\n",
    "    shifted_image[:, :, 0] = np.clip(image[:, :, 0] + shift_value, 0, 255)\n",
    "    shifted_image[:, :, 1] = np.clip(image[:, :, 1] - shift_value, 0, 255)\n",
    "    shifted_image[:, :, 2] = np.clip(image[:, :, 2] - shift_value, 0, 255)\n",
    "    return shifted_image"
   ]
  },
  {
   "cell_type": "markdown",
   "metadata": {},
   "source": [
    "## Initialize Image"
   ]
  },
  {
   "cell_type": "code",
   "execution_count": null,
   "metadata": {},
   "outputs": [],
   "source": [
    "sandbox_image = original_image.copy()"
   ]
  },
  {
   "cell_type": "markdown",
   "metadata": {},
   "source": [
    "## Edit Image"
   ]
  },
  {
   "cell_type": "code",
   "execution_count": null,
   "metadata": {},
   "outputs": [],
   "source": [
    "# Apply each function and accumulate the changes in the sandbox image\n",
    "# sandbox_image = increase_brightness(sandbox_image)\n",
    "sandbox_image = rotate_image(sandbox_image)\n",
    "# sandbox_image = shift_channel(sandbox_image)\n",
    "\n",
    "# Display the accumulated sandbox image using Matplotlib\n",
    "plt.imshow(cv2.cvtColor(sandbox_image, cv2.COLOR_BGR2RGB))\n",
    "plt.axis('off')  # Turn off axis labels\n",
    "plt.show()"
   ]
  }
 ],
 "metadata": {
  "kernelspec": {
   "display_name": "Python 3 (ipykernel)",
   "language": "python",
   "name": "python3"
  },
  "language_info": {
   "codemirror_mode": {
    "name": "ipython",
    "version": 3
   },
   "file_extension": ".py",
   "mimetype": "text/x-python",
   "name": "python",
   "nbconvert_exporter": "python",
   "pygments_lexer": "ipython3",
   "version": "3.10.12"
  }
 },
 "nbformat": 4,
 "nbformat_minor": 4
}
