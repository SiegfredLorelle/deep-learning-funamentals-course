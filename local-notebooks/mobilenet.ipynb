{
 "cells": [
  {
   "cell_type": "markdown",
   "metadata": {},
   "source": [
    "# MobileNet"
   ]
  },
  {
   "cell_type": "markdown",
   "metadata": {},
   "source": [
    "## Questions:\n",
    "- **What are the advantages and tradeoffs of the MobileNet family of CNNs?**\n",
    "    - MobileNet family of CNNs are models with significantly fewer parameters and smaller disk space when compared with other models such VGG16. MobileNet models requires smaller hardware requirements during training, using GPU is not optional. The tradeoff would be its accuracy. Since they have fewer parameters, the model may show results with  a reduced accuracy due to its limited weights. "
   ]
  },
  {
   "cell_type": "code",
   "execution_count": 26,
   "metadata": {
    "_cell_guid": "b1076dfc-b9ad-4769-8c92-a6c4dae69d19",
    "_uuid": "8f2839f25d086af736a60e9eeb907d3b93b6e0e5"
   },
   "outputs": [],
   "source": [
    "import numpy as np\n",
    "import tensorflow as tf\n",
    "from tensorflow import keras\n",
    "from tensorflow.keras.layers import Dense, Activation\n",
    "from tensorflow.keras.optimizers import Adam\n",
    "from tensorflow.keras.metrics import categorical_crossentropy\n",
    "from tensorflow.keras.preprocessing.image import ImageDataGenerator\n",
    "from tensorflow.keras.preprocessing import image\n",
    "from tensorflow.keras.models import Model\n",
    "from tensorflow.keras.applications import imagenet_utils\n",
    "from sklearn.metrics import confusion_matrix\n",
    "import itertools\n",
    "import os\n",
    "import shutil\n",
    "import random\n",
    "import matplotlib.pyplot as plt\n",
    "%matplotlib inline"
   ]
  },
  {
   "cell_type": "code",
   "execution_count": 27,
   "metadata": {},
   "outputs": [
    {
     "name": "stdout",
     "output_type": "stream",
     "text": [
      "Num GPUs Available: 1\n"
     ]
    }
   ],
   "source": [
    "physical_devices = tf.config.experimental.list_physical_devices(\"GPU\")\n",
    "print(f\"Num GPUs Available: {len(physical_devices)}\")"
   ]
  },
  {
   "cell_type": "code",
   "execution_count": 28,
   "metadata": {},
   "outputs": [],
   "source": [
    "mobile = tf.keras.applications.mobilenet.MobileNet()"
   ]
  },
  {
   "cell_type": "code",
   "execution_count": 29,
   "metadata": {},
   "outputs": [],
   "source": [
    "def prepare_image(file):\n",
    "    img_path = \"/kaggle/input/sign-language-digits/Sign-Language-Digits-Dataset/\"\n",
    "    img = image.load(img_path + file, target_size=(224,224))\n",
    "    img_array = image.img_to_array(img)\n",
    "    img_array_expanded_dims = np.expand_dims(img_array, axis=0)\n",
    "    return tf.keras.applications.mobilenet.preprocess_input(img_array_expanded_dims)"
   ]
  },
  {
   "cell_type": "code",
   "execution_count": 38,
   "metadata": {},
   "outputs": [
    {
     "data": {
      "text/plain": [
       "'/mnt/c/Users/Siegfred/programs/image-classification-app-SiegfredLorelle'"
      ]
     },
     "execution_count": 38,
     "metadata": {},
     "output_type": "execute_result"
    }
   ],
   "source": [
    "# from IPython.display import Image\n",
    "# Image()\n",
    "os.getcwd()"
   ]
  },
  {
   "cell_type": "code",
   "execution_count": 39,
   "metadata": {},
   "outputs": [],
   "source": [
    "# Organize data into train, valid, test dirs\n",
    "os.chdir(\"data/Sign-Language-Digits-Dataset\")\n",
    "if os.path.isdir(\"train/0/\") is False:\n",
    "    os.mkdir(\"train\")\n",
    "    os.mkdir(\"valid\")\n",
    "    os.mkdir(\"test\")\n",
    "\n",
    "    for i in range(0, 10):\n",
    "        shutil.move(f\"{i}\", \"train\")\n",
    "        os.mkdir(f\"valid/{i}\")\n",
    "        os.mkdir(f\"test/{i}\")\n",
    "\n",
    "        valid_samples = random.sample(os.listdir(f\"train/{i}\"), 30)\n",
    "        for filename in valid_samples:\n",
    "            shutil.move(f\"train/{i}/{filename}\", f\"valid/{i}\")\n",
    "        \n",
    "        test_samples = random.sample(os.listdir(f\"train/{i}\"), 5)\n",
    "        for filename in test_samples:\n",
    "            shutil.move(f\"train/{i}/{filename}\", f\"test/{i}\")\n",
    "\n",
    "os.chdir(\"./../../\")"
   ]
  },
  {
   "cell_type": "code",
   "execution_count": null,
   "metadata": {},
   "outputs": [],
   "source": []
  }
 ],
 "metadata": {
  "kernelspec": {
   "display_name": "Python 3 (ipykernel)",
   "language": "python",
   "name": "python3"
  },
  "language_info": {
   "codemirror_mode": {
    "name": "ipython",
    "version": 3
   },
   "file_extension": ".py",
   "mimetype": "text/x-python",
   "name": "python",
   "nbconvert_exporter": "python",
   "pygments_lexer": "ipython3",
   "version": "3.10.12"
  }
 },
 "nbformat": 4,
 "nbformat_minor": 4
}
