{
 "cells": [
  {
   "cell_type": "markdown",
   "metadata": {},
   "source": [
    "# Data Preparation and Processing"
   ]
  },
  {
   "cell_type": "code",
   "execution_count": 121,
   "metadata": {},
   "outputs": [],
   "source": [
    "\n",
    "import numpy as np\n",
    "from random import randint\n",
    "from sklearn.utils import shuffle\n",
    "from sklearn.preprocessing import MinMaxScaler\n"
   ]
  },
  {
   "cell_type": "code",
   "execution_count": 122,
   "metadata": {},
   "outputs": [],
   "source": [
    "\n",
    "train_samples = []\n",
    "train_labels = []"
   ]
  },
  {
   "cell_type": "code",
   "execution_count": 123,
   "metadata": {},
   "outputs": [],
   "source": [
    "\n",
    "for i in range(50):\n",
    "    # 5% of younger individuals with side effects\n",
    "    random_younger = randint(13, 64)\n",
    "    train_samples.append(random_younger)\n",
    "    train_labels.append(1)\n",
    "    \n",
    "    # 5% of older individuals with no side effects\n",
    "    random_older = randint(65, 100)\n",
    "    train_samples.append(random_older)\n",
    "    train_labels.append(0)\n",
    "\n",
    "for i in range(950):\n",
    "    # 95% of younger individuals with no side effects\n",
    "    random_younger = randint(13, 64)\n",
    "    train_samples.append(random_younger)\n",
    "    train_labels.append(0)\n",
    "    \n",
    "    # 5% of older individuals with no side effects\n",
    "    random_older = randint(65, 100)\n",
    "    train_samples.append(random_older)\n",
    "    train_labels.append(1)\n",
    "    "
   ]
  },
  {
   "cell_type": "code",
   "execution_count": 124,
   "metadata": {},
   "outputs": [],
   "source": [
    "train_samples = np.array(train_samples)\n",
    "train_labels = np.array(train_labels)\n",
    "\n",
    "scaler = MinMaxScaler(feature_range=(0, 1))\n",
    "scaled_train_samples = scaler.fit_transform(train_samples.reshape(-1, 1))\n",
    "\n",
    "# for i in scaled_train_samples:\n",
    "#     print(i)"
   ]
  },
  {
   "cell_type": "markdown",
   "metadata": {},
   "source": [
    "# Sequential Model"
   ]
  },
  {
   "cell_type": "markdown",
   "metadata": {},
   "source": [
    "### Quesetions: \n",
    "1. What is overfitting?\n",
    "   - Overfitting occurs when a model has learned the specific features of the training set really well. But has a difficult time generalizing on data it hasn't seen before. \n",
    "2. How do you know if a model is overfitting?\n",
    "   - A model can be said to be overfitting when it gives good result on the traning set but less than good results for the validation set.\n",
    "3. Given a confusion matrix, how do you get the accuracy rate?\n",
    "   - A confusion matrix visualizes the predictability performance of a model by contrasting the predicted values with the true values. In a confusion matrix, values which has the same predicted value and true value can be seen in the diagonal (top-right to bottom-left). A possible formula to solve for the accuracy rate would be the sum of corrected predictions divided by the total number of data in a dataset. "
   ]
  },
  {
   "cell_type": "code",
   "execution_count": 125,
   "metadata": {},
   "outputs": [],
   "source": [
    "import tensorflow as tf\n",
    "from tensorflow import keras\n",
    "from tensorflow.keras.models import Sequential\n",
    "from tensorflow.keras.layers import Activation, Dense\n",
    "from tensorflow.keras.optimizers import Adam\n",
    "from tensorflow.keras.metrics import categorical_crossentropy"
   ]
  },
  {
   "cell_type": "code",
   "execution_count": 126,
   "metadata": {},
   "outputs": [
    {
     "name": "stdout",
     "output_type": "stream",
     "text": [
      "num GPUs available: 1\n"
     ]
    }
   ],
   "source": [
    "physical_devices = tf.config.experimental.list_physical_devices(\"GPU\")\n",
    "print(f\"num GPUs available: {len(physical_devices)}\")"
   ]
  },
  {
   "cell_type": "code",
   "execution_count": 127,
   "metadata": {},
   "outputs": [],
   "source": [
    "model = Sequential([\n",
    "    Dense(units=16, input_shape=(1,), activation='relu'),\n",
    "    Dense(units=32, activation=\"relu\"),\n",
    "    Dense(units=2, activation=\"softmax\")\n",
    "])"
   ]
  },
  {
   "cell_type": "code",
   "execution_count": 128,
   "metadata": {},
   "outputs": [
    {
     "name": "stdout",
     "output_type": "stream",
     "text": [
      "Model: \"sequential_8\"\n",
      "_________________________________________________________________\n",
      " Layer (type)                Output Shape              Param #   \n",
      "=================================================================\n",
      " dense_24 (Dense)            (None, 16)                32        \n",
      "                                                                 \n",
      " dense_25 (Dense)            (None, 32)                544       \n",
      "                                                                 \n",
      " dense_26 (Dense)            (None, 2)                 66        \n",
      "                                                                 \n",
      "=================================================================\n",
      "Total params: 642 (2.51 KB)\n",
      "Trainable params: 642 (2.51 KB)\n",
      "Non-trainable params: 0 (0.00 Byte)\n",
      "_________________________________________________________________\n"
     ]
    }
   ],
   "source": [
    "model.summary()"
   ]
  },
  {
   "cell_type": "code",
   "execution_count": 129,
   "metadata": {},
   "outputs": [],
   "source": [
    "model.compile(optimizer=Adam(learning_rate=0.0001), loss=\"sparse_categorical_crossentropy\", metrics=[\"accuracy\"])"
   ]
  },
  {
   "cell_type": "code",
   "execution_count": 130,
   "metadata": {},
   "outputs": [
    {
     "name": "stdout",
     "output_type": "stream",
     "text": [
      "Epoch 1/30\n",
      "180/180 - 4s - loss: 0.6513 - accuracy: 0.5461 - val_loss: 0.6327 - val_accuracy: 0.6000 - 4s/epoch - 20ms/step\n",
      "Epoch 2/30\n",
      "180/180 - 1s - loss: 0.6263 - accuracy: 0.6411 - val_loss: 0.6039 - val_accuracy: 0.7000 - 865ms/epoch - 5ms/step\n",
      "Epoch 3/30\n",
      "180/180 - 1s - loss: 0.5991 - accuracy: 0.7067 - val_loss: 0.5743 - val_accuracy: 0.7300 - 883ms/epoch - 5ms/step\n",
      "Epoch 4/30\n",
      "180/180 - 1s - loss: 0.5723 - accuracy: 0.7483 - val_loss: 0.5427 - val_accuracy: 0.7600 - 848ms/epoch - 5ms/step\n",
      "Epoch 5/30\n",
      "180/180 - 1s - loss: 0.5443 - accuracy: 0.7794 - val_loss: 0.5102 - val_accuracy: 0.8100 - 1s/epoch - 6ms/step\n",
      "Epoch 6/30\n",
      "180/180 - 1s - loss: 0.5159 - accuracy: 0.8144 - val_loss: 0.4778 - val_accuracy: 0.8350 - 853ms/epoch - 5ms/step\n",
      "Epoch 7/30\n",
      "180/180 - 1s - loss: 0.4883 - accuracy: 0.8228 - val_loss: 0.4456 - val_accuracy: 0.8750 - 711ms/epoch - 4ms/step\n",
      "Epoch 8/30\n",
      "180/180 - 1s - loss: 0.4618 - accuracy: 0.8550 - val_loss: 0.4145 - val_accuracy: 0.8800 - 835ms/epoch - 5ms/step\n",
      "Epoch 9/30\n",
      "180/180 - 1s - loss: 0.4371 - accuracy: 0.8644 - val_loss: 0.3849 - val_accuracy: 0.8950 - 684ms/epoch - 4ms/step\n",
      "Epoch 10/30\n",
      "180/180 - 1s - loss: 0.4143 - accuracy: 0.8783 - val_loss: 0.3574 - val_accuracy: 0.9100 - 613ms/epoch - 3ms/step\n",
      "Epoch 11/30\n",
      "180/180 - 1s - loss: 0.3940 - accuracy: 0.8861 - val_loss: 0.3324 - val_accuracy: 0.9300 - 674ms/epoch - 4ms/step\n",
      "Epoch 12/30\n",
      "180/180 - 1s - loss: 0.3760 - accuracy: 0.8922 - val_loss: 0.3103 - val_accuracy: 0.9350 - 667ms/epoch - 4ms/step\n",
      "Epoch 13/30\n",
      "180/180 - 1s - loss: 0.3611 - accuracy: 0.9011 - val_loss: 0.2905 - val_accuracy: 0.9350 - 580ms/epoch - 3ms/step\n",
      "Epoch 14/30\n",
      "180/180 - 1s - loss: 0.3478 - accuracy: 0.9083 - val_loss: 0.2729 - val_accuracy: 0.9400 - 708ms/epoch - 4ms/step\n",
      "Epoch 15/30\n",
      "180/180 - 1s - loss: 0.3370 - accuracy: 0.9083 - val_loss: 0.2578 - val_accuracy: 0.9500 - 844ms/epoch - 5ms/step\n",
      "Epoch 16/30\n",
      "180/180 - 1s - loss: 0.3279 - accuracy: 0.9167 - val_loss: 0.2454 - val_accuracy: 0.9400 - 890ms/epoch - 5ms/step\n",
      "Epoch 17/30\n",
      "180/180 - 1s - loss: 0.3205 - accuracy: 0.9139 - val_loss: 0.2336 - val_accuracy: 0.9400 - 725ms/epoch - 4ms/step\n",
      "Epoch 18/30\n",
      "180/180 - 1s - loss: 0.3140 - accuracy: 0.9150 - val_loss: 0.2233 - val_accuracy: 0.9550 - 649ms/epoch - 4ms/step\n",
      "Epoch 19/30\n",
      "180/180 - 1s - loss: 0.3087 - accuracy: 0.9183 - val_loss: 0.2141 - val_accuracy: 0.9500 - 562ms/epoch - 3ms/step\n",
      "Epoch 20/30\n",
      "180/180 - 1s - loss: 0.3042 - accuracy: 0.9233 - val_loss: 0.2067 - val_accuracy: 0.9500 - 679ms/epoch - 4ms/step\n",
      "Epoch 21/30\n",
      "180/180 - 1s - loss: 0.3006 - accuracy: 0.9244 - val_loss: 0.1994 - val_accuracy: 0.9550 - 592ms/epoch - 3ms/step\n",
      "Epoch 22/30\n",
      "180/180 - 1s - loss: 0.2972 - accuracy: 0.9228 - val_loss: 0.1933 - val_accuracy: 0.9550 - 569ms/epoch - 3ms/step\n",
      "Epoch 23/30\n",
      "180/180 - 1s - loss: 0.2943 - accuracy: 0.9261 - val_loss: 0.1878 - val_accuracy: 0.9550 - 572ms/epoch - 3ms/step\n",
      "Epoch 24/30\n",
      "180/180 - 1s - loss: 0.2918 - accuracy: 0.9228 - val_loss: 0.1825 - val_accuracy: 0.9550 - 507ms/epoch - 3ms/step\n",
      "Epoch 25/30\n",
      "180/180 - 1s - loss: 0.2899 - accuracy: 0.9294 - val_loss: 0.1786 - val_accuracy: 0.9550 - 578ms/epoch - 3ms/step\n",
      "Epoch 26/30\n",
      "180/180 - 1s - loss: 0.2879 - accuracy: 0.9267 - val_loss: 0.1744 - val_accuracy: 0.9550 - 678ms/epoch - 4ms/step\n",
      "Epoch 27/30\n",
      "180/180 - 1s - loss: 0.2863 - accuracy: 0.9339 - val_loss: 0.1715 - val_accuracy: 0.9550 - 823ms/epoch - 5ms/step\n",
      "Epoch 28/30\n",
      "180/180 - 1s - loss: 0.2853 - accuracy: 0.9272 - val_loss: 0.1675 - val_accuracy: 0.9750 - 1s/epoch - 6ms/step\n",
      "Epoch 29/30\n",
      "180/180 - 1s - loss: 0.2838 - accuracy: 0.9256 - val_loss: 0.1647 - val_accuracy: 0.9550 - 866ms/epoch - 5ms/step\n",
      "Epoch 30/30\n",
      "180/180 - 1s - loss: 0.2827 - accuracy: 0.9272 - val_loss: 0.1621 - val_accuracy: 0.9550 - 587ms/epoch - 3ms/step\n"
     ]
    },
    {
     "data": {
      "text/plain": [
       "<keras.src.callbacks.History at 0x7f83c0013a30>"
      ]
     },
     "execution_count": 130,
     "metadata": {},
     "output_type": "execute_result"
    }
   ],
   "source": [
    "model.fit(x=scaled_train_samples, y=train_labels, validation_split=0.1, batch_size=10, epochs=30, shuffle=True, verbose=2)"
   ]
  },
  {
   "cell_type": "markdown",
   "metadata": {},
   "source": [
    "## Predict"
   ]
  },
  {
   "cell_type": "code",
   "execution_count": 131,
   "metadata": {},
   "outputs": [],
   "source": [
    "predictions = model.predict(x=scaled_train_samples, batch_size=10, verbose=0)"
   ]
  },
  {
   "cell_type": "code",
   "execution_count": 132,
   "metadata": {},
   "outputs": [],
   "source": [
    "rounded_predictions = np.argmax(predictions, axis=-1)"
   ]
  },
  {
   "cell_type": "code",
   "execution_count": 133,
   "metadata": {},
   "outputs": [],
   "source": [
    "# for i in rounded_predictions:\n",
    "#     print(i)"
   ]
  },
  {
   "cell_type": "markdown",
   "metadata": {},
   "source": [
    "## Confusion Matrix"
   ]
  },
  {
   "cell_type": "code",
   "execution_count": 134,
   "metadata": {},
   "outputs": [],
   "source": [
    "%matplotlib inline\n",
    "from sklearn.metrics import confusion_matrix\n",
    "import itertools\n",
    "import matplotlib.pyplot as plt"
   ]
  },
  {
   "cell_type": "code",
   "execution_count": 135,
   "metadata": {},
   "outputs": [],
   "source": [
    "cm = confusion_matrix(y_true=train_labels, y_pred=rounded_predictions)"
   ]
  },
  {
   "cell_type": "code",
   "execution_count": 136,
   "metadata": {},
   "outputs": [],
   "source": [
    "def plot_confusion_matrix(cm, classes,\n",
    "                          normalize=False,\n",
    "                          title=\"Confusion matrix\",\n",
    "                          cmap=plt.cm.Blues):\n",
    "    \"\"\"\n",
    "    This function prints and plots the confusion matrix.\n",
    "    Normalization can be applied by setting `normalize=True`.\n",
    "    \"\"\"\n",
    "    plt.imshow(cm, interpolation=\"nearest\", cmap=cmap)\n",
    "    plt.title(title)\n",
    "    plt.colorbar()\n",
    "    tick_marks = np.arange(len(classes))\n",
    "    plt.xticks(tick_marks, classes, rotation=45)\n",
    "    plt.xticks(tick_marks, classes)\n",
    "\n",
    "    if normalize:\n",
    "        cm = cm.astype(\"float\") / cm.sum(axis=1)[:, np.newaxis]\n",
    "        print(\"Normalize confusion matrix\")\n",
    "    else:\n",
    "        print(\"Confusion matrix, without normalization\")\n",
    "\n",
    "    print(cm)\n",
    "\n",
    "    thresh = cm.max() / 2\n",
    "    for i, j in itertools.product(range(cm.shape[0]), range(cm.shape[1])):\n",
    "        plt.text(j, i, cm[i, j],\n",
    "                 horizontalalignment=\"center\",\n",
    "                 color=\"white\" if cm[i, j] > thresh else \"black\")\n",
    "        plt.tight_layout()\n",
    "        plt.ylabel(\"True Label\")\n",
    "        plt.xlabel(\"Predicted Label\")"
   ]
  },
  {
   "cell_type": "code",
   "execution_count": 137,
   "metadata": {},
   "outputs": [
    {
     "name": "stdout",
     "output_type": "stream",
     "text": [
      "Confusion matrix, without normalization\n",
      "[[906  94]\n",
      " [ 47 953]]\n"
     ]
    },
    {
     "data": {
      "image/png": "[encoded data removed]",
      "text/plain": [
       "<Figure size 640x480 with 2 Axes>"
      ]
     },
     "metadata": {},
     "output_type": "display_data"
    }
   ],
   "source": [
    "cm_plot_labels = [\"no_side_effects\", \"had_side_effects\"]\n",
    "plot_confusion_matrix(cm=cm, classes=cm_plot_labels, title=\"Confusion Matrix\")"
   ]
  },
  {
   "cell_type": "markdown",
   "metadata": {},
   "source": [
    "### Save and load via save() and load_model() "
   ]
  },
  {
   "cell_type": "code",
   "execution_count": 138,
   "metadata": {},
   "outputs": [],
   "source": [
    "import os.path\n",
    "\n",
    "if os.path.isfile(\"models/medical_trial_model.h5\") is False:\n",
    "    model.save(\"models/medical_trial_model.h5\")"
   ]
  },
  {
   "cell_type": "code",
   "execution_count": 139,
   "metadata": {},
   "outputs": [],
   "source": [
    "from tensorflow.keras.models import load_model\n",
    "\n",
    "new_model = load_model(\"models/medical_trial_model.h5\")"
   ]
  },
  {
   "cell_type": "code",
   "execution_count": 140,
   "metadata": {},
   "outputs": [
    {
     "name": "stdout",
     "output_type": "stream",
     "text": [
      "Model: \"sequential_6\"\n",
      "_________________________________________________________________\n",
      " Layer (type)                Output Shape              Param #   \n",
      "=================================================================\n",
      " dense_18 (Dense)            (None, 16)                32        \n",
      "                                                                 \n",
      " dense_19 (Dense)            (None, 32)                544       \n",
      "                                                                 \n",
      " dense_20 (Dense)            (None, 2)                 66        \n",
      "                                                                 \n",
      "=================================================================\n",
      "Total params: 642 (2.51 KB)\n",
      "Trainable params: 642 (2.51 KB)\n",
      "Non-trainable params: 0 (0.00 Byte)\n",
      "_________________________________________________________________\n"
     ]
    }
   ],
   "source": [
    "new_model.summary()"
   ]
  },
  {
   "cell_type": "code",
   "execution_count": 141,
   "metadata": {},
   "outputs": [
    {
     "data": {
      "text/plain": [
       "[array([[ 4.6325305e-01,  3.1432922e-03, -5.6383443e-01,  7.4118358e-01,\n",
       "         -1.2553703e-04,  2.2450484e-01,  1.8113997e-02, -3.3429223e-01,\n",
       "         -8.0712140e-02, -1.8692800e-01,  3.4027630e-01, -1.3178766e-02,\n",
       "         -3.0731857e-02,  3.0221432e-01,  2.3514515e-01, -6.5958954e-02]],\n",
       "       dtype=float32),\n",
       " array([-0.11802693, -0.00401397,  0.        , -0.0890365 , -0.00156181,\n",
       "        -0.0719038 ,  0.20106632,  0.        ,  0.        ,  0.        ,\n",
       "        -0.08355032,  0.        ,  0.        , -0.07368755, -0.07163728,\n",
       "         0.17211945], dtype=float32),\n",
       " array([[-3.84802110e-02,  5.32948375e-01, -4.51351963e-02,\n",
       "         -1.53167844e-01, -8.43551904e-02,  1.97985262e-01,\n",
       "          3.27136040e-01,  3.43243152e-01, -4.65535074e-01,\n",
       "          2.93156117e-01, -2.27095559e-01, -1.18880913e-01,\n",
       "         -3.44537348e-01, -2.77445614e-01, -3.43215838e-02,\n",
       "         -8.21474716e-02,  4.88950431e-01, -1.47525996e-01,\n",
       "          1.26986861e-01, -3.35516632e-02, -4.30693328e-01,\n",
       "          1.25665084e-01,  4.45120811e-01, -1.84735835e-01,\n",
       "          1.31442368e-01, -2.93388188e-01, -9.76551920e-02,\n",
       "         -5.96297756e-02,  9.73323360e-02, -4.72961783e-01,\n",
       "         -3.18591475e-01, -1.09441601e-01],\n",
       "        [ 3.04076016e-01,  8.87873843e-02,  7.85738043e-03,\n",
       "         -1.46287382e-02, -1.60582334e-01, -1.86333001e-01,\n",
       "         -4.88353036e-02, -1.38727367e-01, -1.32128686e-01,\n",
       "          2.24520117e-01, -3.31045955e-01,  1.77970797e-01,\n",
       "         -3.04197893e-02, -2.93729194e-02,  1.05266899e-01,\n",
       "          3.18008512e-01, -9.28674191e-02, -2.58941114e-01,\n",
       "         -2.45992362e-01, -2.90971726e-01,  1.41859964e-01,\n",
       "         -2.33944833e-01,  1.25969782e-01,  3.10944438e-01,\n",
       "         -2.51394212e-01,  2.03128591e-01,  1.36008352e-01,\n",
       "          2.96190549e-02,  1.59894973e-02,  2.21868783e-01,\n",
       "          2.12007672e-01, -3.26081038e-01],\n",
       "        [ 1.22927696e-01, -1.75673112e-01,  3.15855414e-01,\n",
       "         -1.85863301e-01, -2.80686468e-01, -3.11791897e-04,\n",
       "          1.81812316e-01,  3.46480459e-01, -1.15725547e-01,\n",
       "         -2.05824137e-01,  8.52427483e-02, -8.05483460e-02,\n",
       "          1.73734874e-01, -2.37081319e-01,  1.20665848e-01,\n",
       "         -1.64174527e-01, -1.45021155e-01,  3.04433435e-01,\n",
       "         -1.50031731e-01,  2.79524058e-01, -4.49719429e-02,\n",
       "          2.18396932e-01, -5.14592826e-02, -2.09149271e-01,\n",
       "         -1.05242282e-01,  2.32988507e-01, -1.85558066e-01,\n",
       "          1.66609615e-01, -2.01455534e-01,  6.19049668e-02,\n",
       "         -5.16301394e-02,  1.22087598e-02],\n",
       "        [-3.76016706e-01,  2.70035714e-01,  4.50246811e-01,\n",
       "          2.54493058e-01,  4.40368861e-01,  1.65273249e-01,\n",
       "          3.95973980e-01,  5.10035455e-01,  2.06960410e-01,\n",
       "         -1.89231679e-01, -1.67948112e-01, -5.19681573e-02,\n",
       "         -1.20879680e-01, -3.49712700e-01,  8.71998146e-02,\n",
       "         -3.55586439e-01,  4.24596369e-01, -3.18363965e-01,\n",
       "         -2.21653312e-01, -1.90513104e-01, -3.29754442e-01,\n",
       "          1.58074230e-01,  3.31460863e-01,  8.48967582e-02,\n",
       "         -1.91906989e-01,  1.43572763e-01, -2.90282369e-01,\n",
       "          5.17427288e-02,  2.30842933e-01,  4.24713176e-03,\n",
       "          8.35078061e-02,  5.32293618e-01],\n",
       "        [-8.82484391e-02,  1.06924959e-01, -3.47837776e-01,\n",
       "         -1.90828115e-01, -2.75693327e-01, -7.91370794e-02,\n",
       "         -1.07375495e-02,  2.56855249e-01, -3.38370651e-01,\n",
       "          7.06655085e-02, -7.93077946e-02, -4.80842255e-02,\n",
       "          2.54379600e-01,  1.69999346e-01,  2.37165302e-01,\n",
       "          2.91398078e-01,  2.83473730e-01, -6.80337772e-02,\n",
       "         -1.93280980e-01, -3.05072367e-01, -2.00567394e-01,\n",
       "         -1.56628802e-01,  2.89761811e-01,  8.15061256e-02,\n",
       "         -2.50118941e-01,  1.50657352e-02,  1.00214384e-01,\n",
       "          1.08294748e-01, -2.03825772e-01,  2.94631690e-01,\n",
       "         -1.04175150e-01, -1.05492830e-01],\n",
       "        [-5.96228600e-01,  2.48268563e-02,  1.04672119e-01,\n",
       "         -3.26992393e-01,  4.00911301e-01, -1.21088646e-01,\n",
       "          2.70780742e-01,  4.52237755e-01, -5.24275482e-01,\n",
       "         -2.51945764e-01, -2.18851864e-02, -1.22679375e-01,\n",
       "         -2.16937169e-01, -2.92513192e-01, -2.90671885e-01,\n",
       "         -1.72346622e-01,  4.44626272e-01, -2.20083311e-01,\n",
       "         -2.46968985e-01,  2.81671017e-01, -2.55915731e-01,\n",
       "         -8.00622161e-03,  5.18940330e-01, -4.34555590e-01,\n",
       "          1.04822576e-01, -3.16251814e-01,  1.32069718e-02,\n",
       "          3.27839442e-02,  8.19304213e-02, -4.73589271e-01,\n",
       "         -7.11547807e-02,  3.46492380e-01],\n",
       "        [ 2.23924592e-01,  1.70135722e-02,  2.81098783e-01,\n",
       "         -2.68015325e-01,  2.12657124e-01, -4.22864072e-02,\n",
       "          2.81254321e-01, -1.09706342e-01,  2.54726410e-01,\n",
       "         -3.49539906e-01,  8.24123994e-02, -1.57273889e-01,\n",
       "          3.72513264e-01, -2.33795986e-01,  1.24862053e-01,\n",
       "          1.49945796e-01, -3.03732157e-01,  5.40617704e-01,\n",
       "         -1.84253290e-01, -3.52531165e-01,  4.24792945e-01,\n",
       "         -1.36696368e-01,  4.80175279e-02,  1.33275464e-02,\n",
       "         -1.12424776e-01, -9.74278972e-02,  1.26900598e-01,\n",
       "          1.96936578e-01, -1.55070573e-01,  4.69236135e-01,\n",
       "         -6.17492571e-02, -9.38130915e-02],\n",
       "        [ 1.40191555e-01,  3.33804399e-01,  4.41530347e-03,\n",
       "          2.49625057e-01,  2.34535605e-01, -3.44219208e-01,\n",
       "          2.20790237e-01,  2.92882651e-01, -1.20759070e-01,\n",
       "         -1.50309309e-01, -1.73194125e-01,  3.34131926e-01,\n",
       "         -2.47582495e-02,  2.95025975e-01,  2.70137876e-01,\n",
       "         -3.03979009e-01, -2.74932832e-01, -1.52186036e-01,\n",
       "         -3.06266069e-01,  2.35658854e-01, -1.67626858e-01,\n",
       "          1.29914790e-01, -2.33496159e-01, -1.24196142e-01,\n",
       "          2.27174968e-01,  1.87891722e-03,  1.68005258e-01,\n",
       "         -2.70374119e-01, -2.89382964e-01,  1.86276108e-01,\n",
       "         -1.43682063e-01, -2.77267337e-01],\n",
       "        [-2.75510728e-01,  1.61606878e-01, -3.32429886e-01,\n",
       "          3.13386768e-01,  3.03793281e-01, -3.34379017e-01,\n",
       "          4.64010239e-03, -1.46497980e-01, -2.87162483e-01,\n",
       "         -4.64461744e-02, -3.04153979e-01, -2.47556254e-01,\n",
       "          1.20360851e-01, -3.07619125e-01,  5.13241589e-02,\n",
       "          2.92246431e-01, -1.50790885e-01, -3.37014973e-01,\n",
       "         -2.11631373e-01,  3.27815682e-01,  1.82581097e-01,\n",
       "          1.11893207e-01,  2.06809074e-01, -1.93194404e-01,\n",
       "         -1.01936787e-01, -2.10155249e-02,  2.95446128e-01,\n",
       "          1.94625467e-01, -3.13469470e-01,  1.29069924e-01,\n",
       "          4.57314253e-02, -2.21300036e-01],\n",
       "        [ 2.56371528e-01, -3.31460685e-01,  2.56594151e-01,\n",
       "          1.54061913e-02, -2.79042989e-01,  2.63735145e-01,\n",
       "         -2.38909915e-01,  1.86024815e-01, -4.41899598e-02,\n",
       "          1.30150318e-01, -4.35768068e-02, -3.22946906e-03,\n",
       "          1.80568725e-01, -2.91886330e-02,  9.12821591e-02,\n",
       "          1.04861259e-01,  4.07306254e-02, -2.22906843e-01,\n",
       "          9.89474058e-02, -2.00304747e-01,  3.05015057e-01,\n",
       "         -2.12301001e-01, -1.95143223e-02,  2.69977540e-01,\n",
       "         -2.74131596e-02, -8.66975784e-02, -2.54032880e-01,\n",
       "         -2.25877941e-01,  6.61851466e-02,  2.61975199e-01,\n",
       "         -3.18158388e-01, -1.00719839e-01],\n",
       "        [-4.77250926e-02,  3.91151667e-01,  4.62424338e-01,\n",
       "         -1.62857339e-01,  4.02285933e-01,  1.97155714e-01,\n",
       "         -3.95549238e-02,  4.85361487e-01, -4.53604102e-01,\n",
       "         -3.40614796e-01,  2.06590056e-01,  7.82187283e-02,\n",
       "         -3.00042301e-01, -3.45776796e-01, -2.87907958e-01,\n",
       "         -1.62236869e-01,  4.99328375e-01, -3.59013289e-01,\n",
       "         -4.94300723e-02, -2.57139504e-02,  1.43216446e-01,\n",
       "          5.03933012e-01,  3.21670830e-01, -6.98260590e-02,\n",
       "         -1.42075837e-01, -2.25714117e-01, -2.94057369e-01,\n",
       "         -2.44355455e-01,  4.08843756e-01, -4.90033567e-01,\n",
       "         -1.77308321e-01,  1.04299381e-01],\n",
       "        [ 3.51843983e-01,  2.12155432e-01,  3.10846567e-02,\n",
       "         -3.20891351e-01,  3.41378361e-01,  3.16703469e-01,\n",
       "          8.59582424e-02, -2.58953184e-01,  2.35144943e-01,\n",
       "         -1.78700700e-01,  3.31404537e-01, -1.36737272e-01,\n",
       "          2.59449750e-01,  4.06386554e-02,  1.31458223e-01,\n",
       "         -2.36641407e-01,  1.49763435e-01,  1.21403307e-01,\n",
       "         -2.45411396e-01, -1.01250291e-01, -2.27780282e-01,\n",
       "         -1.34577841e-01, -1.09941319e-01, -3.07092071e-02,\n",
       "         -2.61866212e-01,  4.22653556e-02, -2.93637097e-01,\n",
       "          5.59103191e-02,  1.15360916e-02,  3.43844682e-01,\n",
       "          1.99246377e-01,  2.93563992e-01],\n",
       "        [-3.23748648e-01,  6.91274107e-02, -1.48274302e-01,\n",
       "          1.24201208e-01, -2.03534961e-03,  1.07489526e-02,\n",
       "         -1.98916346e-01, -6.43763542e-02,  5.02472222e-02,\n",
       "          2.89788812e-01, -2.42291436e-01, -5.82086742e-02,\n",
       "         -1.73255235e-01,  2.86080509e-01,  1.49865180e-01,\n",
       "         -7.77444243e-02, -3.49440277e-02,  1.03197664e-01,\n",
       "         -1.53290018e-01, -3.21230382e-01,  1.68155640e-01,\n",
       "          1.76133722e-01, -1.36939287e-02,  2.34477073e-01,\n",
       "         -6.53161407e-02, -3.69664133e-02, -3.36417407e-01,\n",
       "          9.13907290e-02,  1.10661358e-01, -3.01291466e-01,\n",
       "          3.34334165e-01, -2.80501932e-01],\n",
       "        [-2.16727957e-01,  4.97259162e-02, -6.08308464e-02,\n",
       "         -1.33283705e-01,  5.67493498e-01,  1.79668367e-01,\n",
       "          4.28580195e-01,  3.28802377e-01, -4.69208568e-01,\n",
       "          9.59992111e-02,  1.73041657e-01,  5.56213558e-02,\n",
       "         -1.30090654e-01, -3.49589884e-01, -8.55957344e-02,\n",
       "          2.37046137e-01,  4.59383965e-01, -2.08929688e-01,\n",
       "         -3.08054090e-01,  1.31529868e-01,  1.65354803e-01,\n",
       "          2.72256941e-01,  3.95656496e-01, -2.39507914e-01,\n",
       "         -1.74805060e-01, -5.21785259e-01, -1.52074859e-01,\n",
       "         -1.05610043e-02,  5.39142191e-01, -3.07570755e-01,\n",
       "         -3.47959071e-01,  4.34719861e-01],\n",
       "        [ 8.92685056e-02,  4.25345063e-01,  3.10763240e-01,\n",
       "         -2.97151297e-01,  7.58400606e-03, -4.83981445e-02,\n",
       "          5.79142570e-01,  5.36463082e-01, -5.43754816e-01,\n",
       "          6.51494265e-02, -2.20037982e-01,  2.84463465e-02,\n",
       "         -5.82521021e-01,  6.14030659e-02,  2.54247397e-01,\n",
       "         -5.40971935e-01, -1.00858789e-02, -2.65525222e-01,\n",
       "         -3.17472816e-01, -3.42716157e-01, -4.46689904e-01,\n",
       "          5.41839063e-01,  3.82492721e-01, -5.51214397e-01,\n",
       "         -2.36281216e-01, -1.09645039e-01, -1.23206839e-01,\n",
       "          1.11009203e-01,  2.24155232e-01, -4.32034135e-01,\n",
       "         -8.26144814e-02,  5.38815975e-01],\n",
       "        [ 3.16937864e-01,  5.47154173e-02,  1.43003196e-01,\n",
       "          1.58953071e-01, -1.48306563e-01,  3.41874421e-01,\n",
       "          6.44991472e-02, -2.46619284e-01,  3.02347898e-01,\n",
       "          1.96261615e-01, -2.39516154e-01,  1.82772174e-01,\n",
       "          2.86592394e-01,  3.30563039e-01, -2.26232603e-01,\n",
       "          5.90361580e-02,  2.26615697e-01,  4.32231009e-01,\n",
       "         -3.28768849e-01,  2.13461071e-01,  1.94606125e-01,\n",
       "         -1.18962914e-01,  3.61028383e-03,  3.24335933e-01,\n",
       "          7.53187835e-02,  2.83990949e-01, -1.02435583e-02,\n",
       "          4.38519448e-01, -2.57751524e-01,  3.93234849e-01,\n",
       "          1.95804372e-01, -1.81938320e-01]], dtype=float32),\n",
       " array([ 0.21017934, -0.05418945, -0.09821164, -0.0059311 , -0.07597897,\n",
       "         0.08256379, -0.09324706, -0.0364423 ,  0.18762471,  0.        ,\n",
       "        -0.00056546, -0.00055569,  0.20176299, -0.01088232, -0.00526243,\n",
       "         0.21853368, -0.04076538,  0.20755494,  0.        ,  0.        ,\n",
       "         0.1880866 , -0.01608871, -0.06378937,  0.11386436,  0.        ,\n",
       "         0.15145783,  0.22646905,  0.09615187, -0.01247646,  0.21145414,\n",
       "        -0.02572685, -0.04267492], dtype=float32),\n",
       " array([[ 0.04098395, -0.77307063],\n",
       "        [-0.376731  ,  0.57831424],\n",
       "        [-0.41156244,  0.49784657],\n",
       "        [-0.33021772, -0.08222455],\n",
       "        [-0.6345774 , -0.17186604],\n",
       "        [ 0.2693696 ,  0.12797977],\n",
       "        [-0.27666137,  0.38557875],\n",
       "        [-0.23743263,  0.6036342 ],\n",
       "        [ 0.7796635 , -0.6630966 ],\n",
       "        [ 0.24896309,  0.12554702],\n",
       "        [-0.08024335,  0.31407502],\n",
       "        [ 0.2200465 ,  0.401419  ],\n",
       "        [ 0.31659698, -0.54162645],\n",
       "        [-0.15165982,  0.16798225],\n",
       "        [ 0.04302746,  0.16381331],\n",
       "        [ 0.49597326, -0.4260121 ],\n",
       "        [-0.51912016,  0.3278433 ],\n",
       "        [ 0.5548179 , -0.77684414],\n",
       "        [-0.2798331 , -0.33794284],\n",
       "        [-0.1492359 ,  0.41328755],\n",
       "        [ 0.59629536, -0.691165  ],\n",
       "        [-0.10767802,  0.32229462],\n",
       "        [-0.20456117,  0.19161318],\n",
       "        [ 0.22796142, -0.30722547],\n",
       "        [ 0.01000136, -0.10231391],\n",
       "        [ 0.5098977 , -0.67604345],\n",
       "        [ 0.5432522 , -0.35326675],\n",
       "        [ 0.32276794, -0.05331546],\n",
       "        [-0.5161192 ,  0.6721411 ],\n",
       "        [ 0.182308  , -0.60732836],\n",
       "        [-0.22088706,  0.06777152],\n",
       "        [-0.32465595,  0.2964274 ]], dtype=float32),\n",
       " array([ 0.10052947, -0.10052948], dtype=float32)]"
      ]
     },
     "execution_count": 141,
     "metadata": {},
     "output_type": "execute_result"
    }
   ],
   "source": [
    "new_model.get_weights()"
   ]
  },
  {
   "cell_type": "code",
   "execution_count": 142,
   "metadata": {},
   "outputs": [
    {
     "data": {
      "text/plain": [
       "<keras.src.optimizers.adam.Adam at 0x7f83b0652710>"
      ]
     },
     "execution_count": 142,
     "metadata": {},
     "output_type": "execute_result"
    }
   ],
   "source": [
    "new_model.optimizer"
   ]
  },
  {
   "cell_type": "markdown",
   "metadata": {},
   "source": [
    "### Save and load using to_json() and model_from_json() (only saves architecture, not weights)"
   ]
  },
  {
   "cell_type": "code",
   "execution_count": 143,
   "metadata": {},
   "outputs": [],
   "source": [
    "# Save as json\n",
    "json_string = model.to_json()\n",
    "\n",
    "# Save as yaml (no longer works)\n",
    "# yaml_string = model.to_yaml()"
   ]
  },
  {
   "cell_type": "code",
   "execution_count": 144,
   "metadata": {},
   "outputs": [
    {
     "data": {
      "text/plain": [
       "'{\"class_name\": \"Sequential\", \"config\": {\"name\": \"sequential_8\", \"layers\": [{\"module\": \"keras.layers\", \"class_name\": \"InputLayer\", \"config\": {\"batch_input_shape\": [null, 1], \"dtype\": \"float32\", \"sparse\": false, \"ragged\": false, \"name\": \"dense_24_input\"}, \"registered_name\": null}, {\"module\": \"keras.layers\", \"class_name\": \"Dense\", \"config\": {\"name\": \"dense_24\", \"trainable\": true, \"dtype\": \"float32\", \"batch_input_shape\": [null, 1], \"units\": 16, \"activation\": \"relu\", \"use_bias\": true, \"kernel_initializer\": {\"module\": \"keras.initializers\", \"class_name\": \"GlorotUniform\", \"config\": {\"seed\": null}, \"registered_name\": null}, \"bias_initializer\": {\"module\": \"keras.initializers\", \"class_name\": \"Zeros\", \"config\": {}, \"registered_name\": null}, \"kernel_regularizer\": null, \"bias_regularizer\": null, \"activity_regularizer\": null, \"kernel_constraint\": null, \"bias_constraint\": null}, \"registered_name\": null, \"build_config\": {\"input_shape\": [null, 1]}}, {\"module\": \"keras.layers\", \"class_name\": \"Dense\", \"config\": {\"name\": \"dense_25\", \"trainable\": true, \"dtype\": \"float32\", \"units\": 32, \"activation\": \"relu\", \"use_bias\": true, \"kernel_initializer\": {\"module\": \"keras.initializers\", \"class_name\": \"GlorotUniform\", \"config\": {\"seed\": null}, \"registered_name\": null}, \"bias_initializer\": {\"module\": \"keras.initializers\", \"class_name\": \"Zeros\", \"config\": {}, \"registered_name\": null}, \"kernel_regularizer\": null, \"bias_regularizer\": null, \"activity_regularizer\": null, \"kernel_constraint\": null, \"bias_constraint\": null}, \"registered_name\": null, \"build_config\": {\"input_shape\": [null, 16]}}, {\"module\": \"keras.layers\", \"class_name\": \"Dense\", \"config\": {\"name\": \"dense_26\", \"trainable\": true, \"dtype\": \"float32\", \"units\": 2, \"activation\": \"softmax\", \"use_bias\": true, \"kernel_initializer\": {\"module\": \"keras.initializers\", \"class_name\": \"GlorotUniform\", \"config\": {\"seed\": null}, \"registered_name\": null}, \"bias_initializer\": {\"module\": \"keras.initializers\", \"class_name\": \"Zeros\", \"config\": {}, \"registered_name\": null}, \"kernel_regularizer\": null, \"bias_regularizer\": null, \"activity_regularizer\": null, \"kernel_constraint\": null, \"bias_constraint\": null}, \"registered_name\": null, \"build_config\": {\"input_shape\": [null, 32]}}]}, \"keras_version\": \"2.14.0\", \"backend\": \"tensorflow\"}'"
      ]
     },
     "execution_count": 144,
     "metadata": {},
     "output_type": "execute_result"
    }
   ],
   "source": [
    "json_string\n",
    "\n",
    "# yaml_string"
   ]
  },
  {
   "cell_type": "code",
   "execution_count": 145,
   "metadata": {},
   "outputs": [],
   "source": [
    "# model reconstruction using json\n",
    "from tensorflow.keras.models import model_from_json\n",
    "model_architecture_from_json = model_from_json(json_string)\n",
    "\n",
    "# model reconstruction using yaml (no longer works)\n",
    "# from tensorflow.keras.models import model_from_yaml\n",
    "# model_architecture_from_yaml = model_from_yaml(yaml_string)"
   ]
  },
  {
   "cell_type": "code",
   "execution_count": 146,
   "metadata": {},
   "outputs": [
    {
     "name": "stdout",
     "output_type": "stream",
     "text": [
      "Model: \"sequential_8\"\n",
      "_________________________________________________________________\n",
      " Layer (type)                Output Shape              Param #   \n",
      "=================================================================\n",
      " dense_24 (Dense)            (None, 16)                32        \n",
      "                                                                 \n",
      " dense_25 (Dense)            (None, 32)                544       \n",
      "                                                                 \n",
      " dense_26 (Dense)            (None, 2)                 66        \n",
      "                                                                 \n",
      "=================================================================\n",
      "Total params: 642 (2.51 KB)\n",
      "Trainable params: 642 (2.51 KB)\n",
      "Non-trainable params: 0 (0.00 Byte)\n",
      "_________________________________________________________________\n"
     ]
    }
   ],
   "source": [
    "model_architecture_from_json.summary()"
   ]
  },
  {
   "cell_type": "markdown",
   "metadata": {},
   "source": [
    "### Save and load weights with save_weights() and load_weights() (only saves weight, does not save architecture)"
   ]
  },
  {
   "cell_type": "code",
   "execution_count": 147,
   "metadata": {},
   "outputs": [],
   "source": [
    "import os.path\n",
    "if os.path.isfile(\"models/my_model_weights.h5\") is False:\n",
    "    model.save_weights(\"models/my_model_weights.h5\")"
   ]
  },
  {
   "cell_type": "code",
   "execution_count": 148,
   "metadata": {},
   "outputs": [],
   "source": [
    "model2 = Sequential([\n",
    "    Dense(units=16, input_shape=(1,), activation=\"relu\"),\n",
    "    Dense(units=32, activation=\"relu\"),\n",
    "    Dense(units=2, activation=\"softmax\")\n",
    "])"
   ]
  },
  {
   "cell_type": "code",
   "execution_count": 149,
   "metadata": {},
   "outputs": [],
   "source": [
    "model2.load_weights(\"models/my_model_weights.h5\")"
   ]
  },
  {
   "cell_type": "code",
   "execution_count": 150,
   "metadata": {},
   "outputs": [
    {
     "data": {
      "text/plain": [
       "[array([[ 4.6325305e-01,  3.1432922e-03, -5.6383443e-01,  7.4118358e-01,\n",
       "         -1.2553703e-04,  2.2450484e-01,  1.8113997e-02, -3.3429223e-01,\n",
       "         -8.0712140e-02, -1.8692800e-01,  3.4027630e-01, -1.3178766e-02,\n",
       "         -3.0731857e-02,  3.0221432e-01,  2.3514515e-01, -6.5958954e-02]],\n",
       "       dtype=float32),\n",
       " array([-0.11802693, -0.00401397,  0.        , -0.0890365 , -0.00156181,\n",
       "        -0.0719038 ,  0.20106632,  0.        ,  0.        ,  0.        ,\n",
       "        -0.08355032,  0.        ,  0.        , -0.07368755, -0.07163728,\n",
       "         0.17211945], dtype=float32),\n",
       " array([[-3.84802110e-02,  5.32948375e-01, -4.51351963e-02,\n",
       "         -1.53167844e-01, -8.43551904e-02,  1.97985262e-01,\n",
       "          3.27136040e-01,  3.43243152e-01, -4.65535074e-01,\n",
       "          2.93156117e-01, -2.27095559e-01, -1.18880913e-01,\n",
       "         -3.44537348e-01, -2.77445614e-01, -3.43215838e-02,\n",
       "         -8.21474716e-02,  4.88950431e-01, -1.47525996e-01,\n",
       "          1.26986861e-01, -3.35516632e-02, -4.30693328e-01,\n",
       "          1.25665084e-01,  4.45120811e-01, -1.84735835e-01,\n",
       "          1.31442368e-01, -2.93388188e-01, -9.76551920e-02,\n",
       "         -5.96297756e-02,  9.73323360e-02, -4.72961783e-01,\n",
       "         -3.18591475e-01, -1.09441601e-01],\n",
       "        [ 3.04076016e-01,  8.87873843e-02,  7.85738043e-03,\n",
       "         -1.46287382e-02, -1.60582334e-01, -1.86333001e-01,\n",
       "         -4.88353036e-02, -1.38727367e-01, -1.32128686e-01,\n",
       "          2.24520117e-01, -3.31045955e-01,  1.77970797e-01,\n",
       "         -3.04197893e-02, -2.93729194e-02,  1.05266899e-01,\n",
       "          3.18008512e-01, -9.28674191e-02, -2.58941114e-01,\n",
       "         -2.45992362e-01, -2.90971726e-01,  1.41859964e-01,\n",
       "         -2.33944833e-01,  1.25969782e-01,  3.10944438e-01,\n",
       "         -2.51394212e-01,  2.03128591e-01,  1.36008352e-01,\n",
       "          2.96190549e-02,  1.59894973e-02,  2.21868783e-01,\n",
       "          2.12007672e-01, -3.26081038e-01],\n",
       "        [ 1.22927696e-01, -1.75673112e-01,  3.15855414e-01,\n",
       "         -1.85863301e-01, -2.80686468e-01, -3.11791897e-04,\n",
       "          1.81812316e-01,  3.46480459e-01, -1.15725547e-01,\n",
       "         -2.05824137e-01,  8.52427483e-02, -8.05483460e-02,\n",
       "          1.73734874e-01, -2.37081319e-01,  1.20665848e-01,\n",
       "         -1.64174527e-01, -1.45021155e-01,  3.04433435e-01,\n",
       "         -1.50031731e-01,  2.79524058e-01, -4.49719429e-02,\n",
       "          2.18396932e-01, -5.14592826e-02, -2.09149271e-01,\n",
       "         -1.05242282e-01,  2.32988507e-01, -1.85558066e-01,\n",
       "          1.66609615e-01, -2.01455534e-01,  6.19049668e-02,\n",
       "         -5.16301394e-02,  1.22087598e-02],\n",
       "        [-3.76016706e-01,  2.70035714e-01,  4.50246811e-01,\n",
       "          2.54493058e-01,  4.40368861e-01,  1.65273249e-01,\n",
       "          3.95973980e-01,  5.10035455e-01,  2.06960410e-01,\n",
       "         -1.89231679e-01, -1.67948112e-01, -5.19681573e-02,\n",
       "         -1.20879680e-01, -3.49712700e-01,  8.71998146e-02,\n",
       "         -3.55586439e-01,  4.24596369e-01, -3.18363965e-01,\n",
       "         -2.21653312e-01, -1.90513104e-01, -3.29754442e-01,\n",
       "          1.58074230e-01,  3.31460863e-01,  8.48967582e-02,\n",
       "         -1.91906989e-01,  1.43572763e-01, -2.90282369e-01,\n",
       "          5.17427288e-02,  2.30842933e-01,  4.24713176e-03,\n",
       "          8.35078061e-02,  5.32293618e-01],\n",
       "        [-8.82484391e-02,  1.06924959e-01, -3.47837776e-01,\n",
       "         -1.90828115e-01, -2.75693327e-01, -7.91370794e-02,\n",
       "         -1.07375495e-02,  2.56855249e-01, -3.38370651e-01,\n",
       "          7.06655085e-02, -7.93077946e-02, -4.80842255e-02,\n",
       "          2.54379600e-01,  1.69999346e-01,  2.37165302e-01,\n",
       "          2.91398078e-01,  2.83473730e-01, -6.80337772e-02,\n",
       "         -1.93280980e-01, -3.05072367e-01, -2.00567394e-01,\n",
       "         -1.56628802e-01,  2.89761811e-01,  8.15061256e-02,\n",
       "         -2.50118941e-01,  1.50657352e-02,  1.00214384e-01,\n",
       "          1.08294748e-01, -2.03825772e-01,  2.94631690e-01,\n",
       "         -1.04175150e-01, -1.05492830e-01],\n",
       "        [-5.96228600e-01,  2.48268563e-02,  1.04672119e-01,\n",
       "         -3.26992393e-01,  4.00911301e-01, -1.21088646e-01,\n",
       "          2.70780742e-01,  4.52237755e-01, -5.24275482e-01,\n",
       "         -2.51945764e-01, -2.18851864e-02, -1.22679375e-01,\n",
       "         -2.16937169e-01, -2.92513192e-01, -2.90671885e-01,\n",
       "         -1.72346622e-01,  4.44626272e-01, -2.20083311e-01,\n",
       "         -2.46968985e-01,  2.81671017e-01, -2.55915731e-01,\n",
       "         -8.00622161e-03,  5.18940330e-01, -4.34555590e-01,\n",
       "          1.04822576e-01, -3.16251814e-01,  1.32069718e-02,\n",
       "          3.27839442e-02,  8.19304213e-02, -4.73589271e-01,\n",
       "         -7.11547807e-02,  3.46492380e-01],\n",
       "        [ 2.23924592e-01,  1.70135722e-02,  2.81098783e-01,\n",
       "         -2.68015325e-01,  2.12657124e-01, -4.22864072e-02,\n",
       "          2.81254321e-01, -1.09706342e-01,  2.54726410e-01,\n",
       "         -3.49539906e-01,  8.24123994e-02, -1.57273889e-01,\n",
       "          3.72513264e-01, -2.33795986e-01,  1.24862053e-01,\n",
       "          1.49945796e-01, -3.03732157e-01,  5.40617704e-01,\n",
       "         -1.84253290e-01, -3.52531165e-01,  4.24792945e-01,\n",
       "         -1.36696368e-01,  4.80175279e-02,  1.33275464e-02,\n",
       "         -1.12424776e-01, -9.74278972e-02,  1.26900598e-01,\n",
       "          1.96936578e-01, -1.55070573e-01,  4.69236135e-01,\n",
       "         -6.17492571e-02, -9.38130915e-02],\n",
       "        [ 1.40191555e-01,  3.33804399e-01,  4.41530347e-03,\n",
       "          2.49625057e-01,  2.34535605e-01, -3.44219208e-01,\n",
       "          2.20790237e-01,  2.92882651e-01, -1.20759070e-01,\n",
       "         -1.50309309e-01, -1.73194125e-01,  3.34131926e-01,\n",
       "         -2.47582495e-02,  2.95025975e-01,  2.70137876e-01,\n",
       "         -3.03979009e-01, -2.74932832e-01, -1.52186036e-01,\n",
       "         -3.06266069e-01,  2.35658854e-01, -1.67626858e-01,\n",
       "          1.29914790e-01, -2.33496159e-01, -1.24196142e-01,\n",
       "          2.27174968e-01,  1.87891722e-03,  1.68005258e-01,\n",
       "         -2.70374119e-01, -2.89382964e-01,  1.86276108e-01,\n",
       "         -1.43682063e-01, -2.77267337e-01],\n",
       "        [-2.75510728e-01,  1.61606878e-01, -3.32429886e-01,\n",
       "          3.13386768e-01,  3.03793281e-01, -3.34379017e-01,\n",
       "          4.64010239e-03, -1.46497980e-01, -2.87162483e-01,\n",
       "         -4.64461744e-02, -3.04153979e-01, -2.47556254e-01,\n",
       "          1.20360851e-01, -3.07619125e-01,  5.13241589e-02,\n",
       "          2.92246431e-01, -1.50790885e-01, -3.37014973e-01,\n",
       "         -2.11631373e-01,  3.27815682e-01,  1.82581097e-01,\n",
       "          1.11893207e-01,  2.06809074e-01, -1.93194404e-01,\n",
       "         -1.01936787e-01, -2.10155249e-02,  2.95446128e-01,\n",
       "          1.94625467e-01, -3.13469470e-01,  1.29069924e-01,\n",
       "          4.57314253e-02, -2.21300036e-01],\n",
       "        [ 2.56371528e-01, -3.31460685e-01,  2.56594151e-01,\n",
       "          1.54061913e-02, -2.79042989e-01,  2.63735145e-01,\n",
       "         -2.38909915e-01,  1.86024815e-01, -4.41899598e-02,\n",
       "          1.30150318e-01, -4.35768068e-02, -3.22946906e-03,\n",
       "          1.80568725e-01, -2.91886330e-02,  9.12821591e-02,\n",
       "          1.04861259e-01,  4.07306254e-02, -2.22906843e-01,\n",
       "          9.89474058e-02, -2.00304747e-01,  3.05015057e-01,\n",
       "         -2.12301001e-01, -1.95143223e-02,  2.69977540e-01,\n",
       "         -2.74131596e-02, -8.66975784e-02, -2.54032880e-01,\n",
       "         -2.25877941e-01,  6.61851466e-02,  2.61975199e-01,\n",
       "         -3.18158388e-01, -1.00719839e-01],\n",
       "        [-4.77250926e-02,  3.91151667e-01,  4.62424338e-01,\n",
       "         -1.62857339e-01,  4.02285933e-01,  1.97155714e-01,\n",
       "         -3.95549238e-02,  4.85361487e-01, -4.53604102e-01,\n",
       "         -3.40614796e-01,  2.06590056e-01,  7.82187283e-02,\n",
       "         -3.00042301e-01, -3.45776796e-01, -2.87907958e-01,\n",
       "         -1.62236869e-01,  4.99328375e-01, -3.59013289e-01,\n",
       "         -4.94300723e-02, -2.57139504e-02,  1.43216446e-01,\n",
       "          5.03933012e-01,  3.21670830e-01, -6.98260590e-02,\n",
       "         -1.42075837e-01, -2.25714117e-01, -2.94057369e-01,\n",
       "         -2.44355455e-01,  4.08843756e-01, -4.90033567e-01,\n",
       "         -1.77308321e-01,  1.04299381e-01],\n",
       "        [ 3.51843983e-01,  2.12155432e-01,  3.10846567e-02,\n",
       "         -3.20891351e-01,  3.41378361e-01,  3.16703469e-01,\n",
       "          8.59582424e-02, -2.58953184e-01,  2.35144943e-01,\n",
       "         -1.78700700e-01,  3.31404537e-01, -1.36737272e-01,\n",
       "          2.59449750e-01,  4.06386554e-02,  1.31458223e-01,\n",
       "         -2.36641407e-01,  1.49763435e-01,  1.21403307e-01,\n",
       "         -2.45411396e-01, -1.01250291e-01, -2.27780282e-01,\n",
       "         -1.34577841e-01, -1.09941319e-01, -3.07092071e-02,\n",
       "         -2.61866212e-01,  4.22653556e-02, -2.93637097e-01,\n",
       "          5.59103191e-02,  1.15360916e-02,  3.43844682e-01,\n",
       "          1.99246377e-01,  2.93563992e-01],\n",
       "        [-3.23748648e-01,  6.91274107e-02, -1.48274302e-01,\n",
       "          1.24201208e-01, -2.03534961e-03,  1.07489526e-02,\n",
       "         -1.98916346e-01, -6.43763542e-02,  5.02472222e-02,\n",
       "          2.89788812e-01, -2.42291436e-01, -5.82086742e-02,\n",
       "         -1.73255235e-01,  2.86080509e-01,  1.49865180e-01,\n",
       "         -7.77444243e-02, -3.49440277e-02,  1.03197664e-01,\n",
       "         -1.53290018e-01, -3.21230382e-01,  1.68155640e-01,\n",
       "          1.76133722e-01, -1.36939287e-02,  2.34477073e-01,\n",
       "         -6.53161407e-02, -3.69664133e-02, -3.36417407e-01,\n",
       "          9.13907290e-02,  1.10661358e-01, -3.01291466e-01,\n",
       "          3.34334165e-01, -2.80501932e-01],\n",
       "        [-2.16727957e-01,  4.97259162e-02, -6.08308464e-02,\n",
       "         -1.33283705e-01,  5.67493498e-01,  1.79668367e-01,\n",
       "          4.28580195e-01,  3.28802377e-01, -4.69208568e-01,\n",
       "          9.59992111e-02,  1.73041657e-01,  5.56213558e-02,\n",
       "         -1.30090654e-01, -3.49589884e-01, -8.55957344e-02,\n",
       "          2.37046137e-01,  4.59383965e-01, -2.08929688e-01,\n",
       "         -3.08054090e-01,  1.31529868e-01,  1.65354803e-01,\n",
       "          2.72256941e-01,  3.95656496e-01, -2.39507914e-01,\n",
       "         -1.74805060e-01, -5.21785259e-01, -1.52074859e-01,\n",
       "         -1.05610043e-02,  5.39142191e-01, -3.07570755e-01,\n",
       "         -3.47959071e-01,  4.34719861e-01],\n",
       "        [ 8.92685056e-02,  4.25345063e-01,  3.10763240e-01,\n",
       "         -2.97151297e-01,  7.58400606e-03, -4.83981445e-02,\n",
       "          5.79142570e-01,  5.36463082e-01, -5.43754816e-01,\n",
       "          6.51494265e-02, -2.20037982e-01,  2.84463465e-02,\n",
       "         -5.82521021e-01,  6.14030659e-02,  2.54247397e-01,\n",
       "         -5.40971935e-01, -1.00858789e-02, -2.65525222e-01,\n",
       "         -3.17472816e-01, -3.42716157e-01, -4.46689904e-01,\n",
       "          5.41839063e-01,  3.82492721e-01, -5.51214397e-01,\n",
       "         -2.36281216e-01, -1.09645039e-01, -1.23206839e-01,\n",
       "          1.11009203e-01,  2.24155232e-01, -4.32034135e-01,\n",
       "         -8.26144814e-02,  5.38815975e-01],\n",
       "        [ 3.16937864e-01,  5.47154173e-02,  1.43003196e-01,\n",
       "          1.58953071e-01, -1.48306563e-01,  3.41874421e-01,\n",
       "          6.44991472e-02, -2.46619284e-01,  3.02347898e-01,\n",
       "          1.96261615e-01, -2.39516154e-01,  1.82772174e-01,\n",
       "          2.86592394e-01,  3.30563039e-01, -2.26232603e-01,\n",
       "          5.90361580e-02,  2.26615697e-01,  4.32231009e-01,\n",
       "         -3.28768849e-01,  2.13461071e-01,  1.94606125e-01,\n",
       "         -1.18962914e-01,  3.61028383e-03,  3.24335933e-01,\n",
       "          7.53187835e-02,  2.83990949e-01, -1.02435583e-02,\n",
       "          4.38519448e-01, -2.57751524e-01,  3.93234849e-01,\n",
       "          1.95804372e-01, -1.81938320e-01]], dtype=float32),\n",
       " array([ 0.21017934, -0.05418945, -0.09821164, -0.0059311 , -0.07597897,\n",
       "         0.08256379, -0.09324706, -0.0364423 ,  0.18762471,  0.        ,\n",
       "        -0.00056546, -0.00055569,  0.20176299, -0.01088232, -0.00526243,\n",
       "         0.21853368, -0.04076538,  0.20755494,  0.        ,  0.        ,\n",
       "         0.1880866 , -0.01608871, -0.06378937,  0.11386436,  0.        ,\n",
       "         0.15145783,  0.22646905,  0.09615187, -0.01247646,  0.21145414,\n",
       "        -0.02572685, -0.04267492], dtype=float32),\n",
       " array([[ 0.04098395, -0.77307063],\n",
       "        [-0.376731  ,  0.57831424],\n",
       "        [-0.41156244,  0.49784657],\n",
       "        [-0.33021772, -0.08222455],\n",
       "        [-0.6345774 , -0.17186604],\n",
       "        [ 0.2693696 ,  0.12797977],\n",
       "        [-0.27666137,  0.38557875],\n",
       "        [-0.23743263,  0.6036342 ],\n",
       "        [ 0.7796635 , -0.6630966 ],\n",
       "        [ 0.24896309,  0.12554702],\n",
       "        [-0.08024335,  0.31407502],\n",
       "        [ 0.2200465 ,  0.401419  ],\n",
       "        [ 0.31659698, -0.54162645],\n",
       "        [-0.15165982,  0.16798225],\n",
       "        [ 0.04302746,  0.16381331],\n",
       "        [ 0.49597326, -0.4260121 ],\n",
       "        [-0.51912016,  0.3278433 ],\n",
       "        [ 0.5548179 , -0.77684414],\n",
       "        [-0.2798331 , -0.33794284],\n",
       "        [-0.1492359 ,  0.41328755],\n",
       "        [ 0.59629536, -0.691165  ],\n",
       "        [-0.10767802,  0.32229462],\n",
       "        [-0.20456117,  0.19161318],\n",
       "        [ 0.22796142, -0.30722547],\n",
       "        [ 0.01000136, -0.10231391],\n",
       "        [ 0.5098977 , -0.67604345],\n",
       "        [ 0.5432522 , -0.35326675],\n",
       "        [ 0.32276794, -0.05331546],\n",
       "        [-0.5161192 ,  0.6721411 ],\n",
       "        [ 0.182308  , -0.60732836],\n",
       "        [-0.22088706,  0.06777152],\n",
       "        [-0.32465595,  0.2964274 ]], dtype=float32),\n",
       " array([ 0.10052947, -0.10052948], dtype=float32)]"
      ]
     },
     "execution_count": 150,
     "metadata": {},
     "output_type": "execute_result"
    }
   ],
   "source": [
    "model2.get_weights()"
   ]
  }
 ],
 "metadata": {
  "kernelspec": {
   "display_name": "Python 3 (ipykernel)",
   "language": "python",
   "name": "python3"
  },
  "language_info": {
   "codemirror_mode": {
    "name": "ipython",
    "version": 3
   },
   "file_extension": ".py",
   "mimetype": "text/x-python",
   "name": "python",
   "nbconvert_exporter": "python",
   "pygments_lexer": "ipython3",
   "version": "3.10.12"
  }
 },
 "nbformat": 4,
 "nbformat_minor": 4
}
