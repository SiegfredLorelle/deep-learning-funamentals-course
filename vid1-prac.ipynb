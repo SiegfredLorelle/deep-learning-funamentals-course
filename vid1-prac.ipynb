{
 "cells": [
  {
   "cell_type": "markdown",
   "id": "d5d465f4",
   "metadata": {
    "papermill": {
     "duration": 0.003436,
     "end_time": "2023-10-09T15:57:45.201144",
     "exception": false,
     "start_time": "2023-10-09T15:57:45.197708",
     "status": "completed"
    },
    "tags": []
   },
   "source": [
    "# Sample 1"
   ]
  },
  {
   "cell_type": "code",
   "execution_count": 1,
   "id": "cec25eab",
   "metadata": {
    "execution": {
     "iopub.execute_input": "2023-10-09T15:57:45.209152Z",
     "iopub.status.busy": "2023-10-09T15:57:45.208153Z",
     "iopub.status.idle": "2023-10-09T15:57:45.219976Z",
     "shell.execute_reply": "2023-10-09T15:57:45.218856Z"
    },
    "papermill": {
     "duration": 0.018686,
     "end_time": "2023-10-09T15:57:45.222154",
     "exception": false,
     "start_time": "2023-10-09T15:57:45.203468",
     "status": "completed"
    },
    "tags": []
   },
   "outputs": [
    {
     "name": "stdout",
     "output_type": "stream",
     "text": [
      "Hello World!\n"
     ]
    }
   ],
   "source": [
    "print(\"Hello World!\")"
   ]
  },
  {
   "cell_type": "code",
   "execution_count": 2,
   "id": "1f8d6f2c",
   "metadata": {
    "execution": {
     "iopub.execute_input": "2023-10-09T15:57:45.228135Z",
     "iopub.status.busy": "2023-10-09T15:57:45.227650Z",
     "iopub.status.idle": "2023-10-09T15:57:45.233067Z",
     "shell.execute_reply": "2023-10-09T15:57:45.231886Z"
    },
    "papermill": {
     "duration": 0.010689,
     "end_time": "2023-10-09T15:57:45.235058",
     "exception": false,
     "start_time": "2023-10-09T15:57:45.224369",
     "status": "completed"
    },
    "tags": []
   },
   "outputs": [],
   "source": [
    "a = 5"
   ]
  },
  {
   "cell_type": "code",
   "execution_count": 3,
   "id": "38122189",
   "metadata": {
    "execution": {
     "iopub.execute_input": "2023-10-09T15:57:45.241031Z",
     "iopub.status.busy": "2023-10-09T15:57:45.240612Z",
     "iopub.status.idle": "2023-10-09T15:57:45.245271Z",
     "shell.execute_reply": "2023-10-09T15:57:45.244231Z"
    },
    "papermill": {
     "duration": 0.010103,
     "end_time": "2023-10-09T15:57:45.247315",
     "exception": false,
     "start_time": "2023-10-09T15:57:45.237212",
     "status": "completed"
    },
    "tags": []
   },
   "outputs": [],
   "source": [
    "a += 3"
   ]
  },
  {
   "cell_type": "code",
   "execution_count": 4,
   "id": "8a526f75",
   "metadata": {
    "execution": {
     "iopub.execute_input": "2023-10-09T15:57:45.253255Z",
     "iopub.status.busy": "2023-10-09T15:57:45.252803Z",
     "iopub.status.idle": "2023-10-09T15:57:45.258028Z",
     "shell.execute_reply": "2023-10-09T15:57:45.257240Z"
    },
    "papermill": {
     "duration": 0.010804,
     "end_time": "2023-10-09T15:57:45.260268",
     "exception": false,
     "start_time": "2023-10-09T15:57:45.249464",
     "status": "completed"
    },
    "tags": []
   },
   "outputs": [
    {
     "name": "stdout",
     "output_type": "stream",
     "text": [
      "8\n"
     ]
    }
   ],
   "source": [
    "print(a)"
   ]
  },
  {
   "cell_type": "markdown",
   "id": "57a33ea4",
   "metadata": {
    "papermill": {
     "duration": 0.001987,
     "end_time": "2023-10-09T15:57:45.264542",
     "exception": false,
     "start_time": "2023-10-09T15:57:45.262555",
     "status": "completed"
    },
    "tags": []
   },
   "source": [
    "# Sample 2"
   ]
  }
 ],
 "metadata": {
  "kernelspec": {
   "display_name": "Python 3 (ipykernel)",
   "language": "python",
   "name": "python3"
  },
  "language_info": {
   "codemirror_mode": {
    "name": "ipython",
    "version": 3
   },
   "file_extension": ".py",
   "mimetype": "text/x-python",
   "name": "python",
   "nbconvert_exporter": "python",
   "pygments_lexer": "ipython3",
   "version": "3.10.6"
  },
  "papermill": {
   "default_parameters": {},
   "duration": 3.953809,
   "end_time": "2023-10-09T15:57:45.790130",
   "environment_variables": {},
   "exception": null,
   "input_path": "__notebook__.ipynb",
   "output_path": "__notebook__.ipynb",
   "parameters": {},
   "start_time": "2023-10-09T15:57:41.836321",
   "version": "2.4.0"
  }
 },
 "nbformat": 4,
 "nbformat_minor": 5
}
